{
 "cells": [
  {
   "cell_type": "code",
   "execution_count": 1,
   "metadata": {},
   "outputs": [],
   "source": [
    "import lightgbm as lgb\n",
    "import sys\n",
    "from os import listdir\n",
    "import os.path\n",
    "from os.path import isdir, isfile, join\n",
    "import numpy as np\n",
    "import pandas as pd\n",
    "from sklearn.model_selection import train_test_split\n",
    "from sklearn import preprocessing"
   ]
  },
  {
   "cell_type": "code",
   "execution_count": 2,
   "metadata": {},
   "outputs": [],
   "source": [
    "def gatherCSVFilePathsfromDirectory(dir):\n",
    "    print(dir)\n",
    "    filepaths = []\n",
    "    for f in listdir(dir):\n",
    "        path = join(dir, f)\n",
    "        if isfile(path) and f.endswith(\".csv\"):\n",
    "            filepaths.append(path)\n",
    "\n",
    "    if len(filepaths) == 0:\n",
    "        exit(\"Directory does not contain any csv files: %s\" % dir)\n",
    "\n",
    "    filepaths = np.sort(filepaths)\n",
    "    print(\"Found %s files.\" % len(filepaths))\n",
    "\n",
    "    return filepaths\n"
   ]
  },
  {
   "cell_type": "code",
   "execution_count": 3,
   "metadata": {
    "scrolled": true
   },
   "outputs": [
    {
     "name": "stdout",
     "output_type": "stream",
     "text": [
      "/Users/Felix/Documents/FH/NILM/DataScienceProjekt/data\n",
      "['ohp_voll-single.psdata', 'laptop-single', '.DS_Store', 'ohp_voll-laptop', 'lampe-ohp_voll.psdata', 'ohp_halb-single', 'ohp_halb-single.psdata', 'ohp_voll-laptop-bosch-lampe.psdata', 'lampe-ohp_voll', 'ohp_voll-single', 'ohp_halb-laptop-lampe.psdata', 'ohp_halb-laptop.psdata', 'bosch-single', 'lampe-single', 'ohp_voll-laptop-bosch-lampe', 'ohp_halb-laptop', 'ohp_halb-laptop-lampe']\n",
      "/Users/Felix/Documents/FH/NILM/DataScienceProjekt/data/laptop-single\n",
      "Found 256 files.\n",
      "/Users/Felix/Documents/FH/NILM/DataScienceProjekt/data/ohp_voll-laptop\n",
      "Found 256 files.\n",
      "/Users/Felix/Documents/FH/NILM/DataScienceProjekt/data/ohp_halb-single\n",
      "Found 256 files.\n",
      "/Users/Felix/Documents/FH/NILM/DataScienceProjekt/data/lampe-ohp_voll\n",
      "Found 256 files.\n",
      "/Users/Felix/Documents/FH/NILM/DataScienceProjekt/data/ohp_voll-single\n",
      "Found 256 files.\n",
      "/Users/Felix/Documents/FH/NILM/DataScienceProjekt/data/bosch-single\n",
      "Found 256 files.\n",
      "/Users/Felix/Documents/FH/NILM/DataScienceProjekt/data/lampe-single\n",
      "Found 256 files.\n",
      "/Users/Felix/Documents/FH/NILM/DataScienceProjekt/data/ohp_voll-laptop-bosch-lampe\n",
      "Found 256 files.\n",
      "/Users/Felix/Documents/FH/NILM/DataScienceProjekt/data/ohp_halb-laptop\n",
      "Found 256 files.\n",
      "/Users/Felix/Documents/FH/NILM/DataScienceProjekt/data/ohp_halb-laptop-lampe\n",
      "Found 256 files.\n"
     ]
    }
   ],
   "source": [
    "#############################################\n",
    "#MARK: - Read Files\n",
    "\n",
    "SOURCE_DIR = \"./data/\"\n",
    "\n",
    "\n",
    "SOURCE_DIR = os.path.abspath(SOURCE_DIR)\n",
    "if not isdir(SOURCE_DIR):\n",
    "    exit(\"That's not a directory!\")\n",
    "else:\n",
    "    print(SOURCE_DIR)\n",
    "\n",
    "elems = listdir(SOURCE_DIR)\n",
    "print(elems)\n",
    "directories = {}\n",
    "for e in elems:\n",
    "    path = join(SOURCE_DIR, e)\n",
    "    \n",
    "    if isdir(path):\n",
    "        filepaths = gatherCSVFilePathsfromDirectory(path)\n",
    "\n",
    "        directories[e] = []\n",
    "        for filepath in filepaths:\n",
    "            dataframe = pd.read_csv(filepath, header=1)\n",
    "            dataframe.columns = dataframe.columns.str.strip().str.replace('(', '').str.replace(')', '') \n",
    "            \n",
    "            # convert ms timestamp to ids\n",
    "            dataframe = dataframe.assign(id= lambda x: dataframe.index )\n",
    "            dataframe = dataframe.drop(columns=['ms'])\n",
    "            \n",
    "            if 'mA' in dataframe:\n",
    "                dataframe = dataframe.assign(A= lambda x: x.mA / 1000.0).drop(columns=['mA'])\n",
    "            directories[e].append(dataframe)\n",
    "            "
   ]
  },
  {
   "cell_type": "code",
   "execution_count": 4,
   "metadata": {
    "scrolled": true
   },
   "outputs": [
    {
     "name": "stdout",
     "output_type": "stream",
     "text": [
      "laptop-single 256\n",
      "          V         A  id\n",
      "0 -8.224738  0.018067   0\n",
      "1 -8.224738  0.036012   1\n",
      "2 -3.753777  0.018067   2\n",
      "3  0.732444  0.018067   3\n",
      "                 V            A           id\n",
      "count  2445.000000  2445.000000  2445.000000\n",
      "mean     38.888648     0.021008  1222.000000\n",
      "std     222.962687     0.338291   705.955027\n",
      "min    -321.848200    -1.293191     0.000000\n",
      "25%    -178.472200    -0.017823   611.000000\n",
      "50%      81.362350     0.000122  1222.000000\n",
      "75%     251.609800     0.018067  1833.000000\n",
      "max     314.340600     1.419172  2444.000000\n",
      "\n",
      "\n",
      "\n",
      "ohp_voll-laptop 256\n",
      "           V         A  id\n",
      "0 -12.710960 -1.078524   0\n",
      "1  -8.224738 -1.078524   1\n",
      "2  -3.753777 -1.078524   2\n",
      "3  -8.224738 -1.078524   3\n",
      "                 V            A           id\n",
      "count  2445.000000  2445.000000  2445.000000\n",
      "mean     38.879487     0.443960  1222.000000\n",
      "std     221.681810     2.560982   705.955027\n",
      "min    -317.362000    -5.035249     0.000000\n",
      "25%    -174.001300    -1.887875   611.000000\n",
      "50%      81.362350     0.989410  1222.000000\n",
      "75%     251.609800     2.608112  1833.000000\n",
      "max     314.340600     5.215919  2444.000000\n",
      "\n",
      "\n",
      "\n",
      "ohp_halb-single 256\n",
      "          V         A  id\n",
      "0 -8.224738 -0.898007   0\n",
      "1 -8.224738 -0.852992   1\n",
      "2 -3.753777 -0.852992   2\n",
      "3  0.732444 -0.807978   3\n",
      "                 V            A           id\n",
      "count  2445.000000  2445.000000  2445.000000\n",
      "mean     38.496284     0.343922  1222.000000\n",
      "std     221.744049     1.993454   705.955027\n",
      "min    -317.362000    -2.831965     0.000000\n",
      "25%    -174.001300    -1.662648   611.000000\n",
      "50%      81.362350     0.811029  1222.000000\n",
      "75%     251.609800     2.295297  1833.000000\n",
      "max     314.340600     2.790002  2444.000000\n",
      "\n",
      "\n",
      "\n",
      "lampe-ohp_voll 256\n",
      "          V         A  id\n",
      "0 -8.224738 -1.077914   0\n",
      "1 -8.224738 -1.032899   1\n",
      "2 -3.753777 -1.032899   2\n",
      "3  0.732444 -1.032899   3\n",
      "                 V            A           id\n",
      "count  2445.000000  2445.000000  2445.000000\n",
      "mean     38.518116     0.427253  1222.000000\n",
      "std     221.270108     2.445388   705.955027\n",
      "min    -317.362000    -3.461714     0.000000\n",
      "25%    -174.001300    -2.022462   611.000000\n",
      "50%      81.362350     1.035951  1222.000000\n",
      "75%     251.609800     2.790002  1833.000000\n",
      "max     314.340600     3.419599  2444.000000\n",
      "\n",
      "\n",
      "\n",
      "ohp_voll-single 256\n",
      "          V         A  id\n",
      "0 -8.224738 -1.122929   0\n",
      "1 -8.224738 -1.122929   1\n",
      "2 -3.753777 -1.077914   2\n",
      "3 -3.753777 -1.077914   3\n",
      "                 V            A           id\n",
      "count  2445.000000  2445.000000  2445.000000\n",
      "mean     38.604589     0.393904  1222.000000\n",
      "std     222.299833     2.274572   705.955027\n",
      "min    -321.848200    -3.236793     0.000000\n",
      "25%    -174.001300    -1.887417   611.000000\n",
      "50%      81.362350     0.945921  1222.000000\n",
      "75%     251.609800     2.610096  1833.000000\n",
      "max     314.340600     3.194830  2444.000000\n",
      "\n",
      "\n",
      "\n",
      "bosch-single 256\n",
      "          V         A  id\n",
      "0 -8.224738 -0.290353   0\n",
      "1 -8.224738 -0.281320   1\n",
      "2 -3.753777 -0.281320   2\n",
      "3  0.732444 -0.290353   3\n",
      "                 V            A           id\n",
      "count  2445.000000  2445.000000  2445.000000\n",
      "mean     38.762161     0.065086  1222.000000\n",
      "std     222.765937     0.424451   705.955027\n",
      "min    -321.848200    -0.371715     0.000000\n",
      "25%    -178.472200    -0.317454   611.000000\n",
      "50%      81.362350    -0.100528  1222.000000\n",
      "75%     251.609800     0.450881  1833.000000\n",
      "max     314.340600     0.884793  2444.000000\n",
      "\n",
      "\n",
      "\n",
      "lampe-single 256\n",
      "          V  id         A\n",
      "0 -8.224738   0  0.011032\n",
      "1 -8.224738   1  0.011032\n",
      "2  0.732444   2  0.015549\n",
      "3  0.732444   3  0.015549\n",
      "                 V           id            A\n",
      "count  2445.000000  2445.000000  2445.000000\n",
      "mean     38.822680  1222.000000     0.038227\n",
      "std     223.243345   705.955027     0.209745\n",
      "min    -321.848200     0.000000    -0.314585\n",
      "25%    -178.472200   611.000000    -0.165334\n",
      "50%      81.362350  1222.000000     0.078875\n",
      "75%     251.609800  1833.000000     0.237175\n",
      "max     314.340600  2444.000000     0.314051\n",
      "\n",
      "\n",
      "\n",
      "ohp_voll-laptop-bosch-lampe 256\n",
      "          V         A  id\n",
      "0 -8.224738 -1.438032   0\n",
      "1 -8.224738 -1.438032   1\n",
      "2 -3.753777 -1.438032   2\n",
      "3  0.732444 -1.348308   3\n",
      "                 V            A           id\n",
      "count  2445.000000  2445.000000  2445.000000\n",
      "mean     38.261915     0.542205  1222.000000\n",
      "std     222.397315     3.132405   705.955027\n",
      "min    -321.848200    -5.844600     0.000000\n",
      "25%    -178.472200    -2.337413   611.000000\n",
      "50%      81.362350     0.899686  1222.000000\n",
      "75%     251.609800     3.327433  1833.000000\n",
      "max     314.340600     6.025269  2444.000000\n",
      "\n",
      "\n",
      "\n",
      "ohp_halb-laptop 256\n",
      "          V         A  id\n",
      "0 -8.224738 -0.852992   0\n",
      "1 -8.224738 -0.852992   1\n",
      "2 -3.753777 -0.807978   2\n",
      "3  0.732444 -0.763115   3\n",
      "                 V            A           id\n",
      "count  2445.000000  2445.000000  2445.000000\n",
      "mean     38.675981     0.383124  1222.000000\n",
      "std     221.613183     2.292506   705.955027\n",
      "min    -321.848200    -4.810938     0.000000\n",
      "25%    -174.001300    -1.617634   611.000000\n",
      "50%      81.362350     0.766015  1222.000000\n",
      "75%     251.609800     2.295297  1833.000000\n",
      "max     314.340600     4.768975  2444.000000\n",
      "\n",
      "\n",
      "\n",
      "ohp_halb-laptop-lampe 256\n",
      "          V        A  id\n",
      "0 -8.224738 -0.80874   0\n",
      "1 -8.224738 -0.80874   1\n",
      "2 -3.753777 -0.80874   2\n",
      "3 -3.753777 -0.80874   3\n",
      "                 V            A           id\n",
      "count  2445.000000  2445.000000  2445.000000\n",
      "mean     38.441463     0.431638  1222.000000\n",
      "std     222.065275     2.488064   705.955027\n",
      "min    -321.848200    -5.124973     0.000000\n",
      "25%    -178.472200    -1.797845   611.000000\n",
      "50%      81.362350     0.899686  1222.000000\n",
      "75%     251.609800     2.518387  1833.000000\n",
      "max     314.340600     5.126194  2444.000000\n",
      "\n",
      "\n",
      "\n"
     ]
    }
   ],
   "source": [
    "for (id, dfs) in directories.items():\n",
    "    print(id, len(dfs))\n",
    "    print(dfs[0].head(4))\n",
    "    print(dfs[0].describe())\n",
    "    print('\\n\\n')"
   ]
  },
  {
   "cell_type": "code",
   "execution_count": null,
   "metadata": {
    "scrolled": true
   },
   "outputs": [],
   "source": []
  },
  {
   "cell_type": "markdown",
   "metadata": {},
   "source": [
    "#### TODO\n",
    "\n",
    "- Zeit diskretisieren 0ms = 0 und 20ms = 2445 (neue spalte -> id des datensatzes) done\n",
    "- mA zu A umrechnen (falls vorhanden) done\n",
    "- geht multilabel mit gradient boosting? jaein, vielleicht\n",
    "- in X und Y aufteilen \n",
    "- attacke!\n"
   ]
  },
  {
   "cell_type": "code",
   "execution_count": 5,
   "metadata": {},
   "outputs": [],
   "source": [
    "features = []\n",
    "\n",
    "for label, data in directories.items():\n",
    "    # pro gerät alle daten in einen dataframe\n",
    "    res = pd.concat(data, sort=False)\n",
    "    #zu der tabelle eine spalte mit label hinzufügen\n",
    "    res = res.assign(labels= lambda x: label)\n",
    "    \n",
    "    features.append(res)\n",
    "\n",
    "# dataframes zu einem kombinieren\n",
    "features = pd.concat(features, sort=False)\n",
    "\n",
    "X = features.drop(columns=['labels'])\n",
    "min_max_scaler = preprocessing.MinMaxScaler()\n",
    "X = min_max_scaler.fit_transform(X)\n",
    "Y = features['labels']\n",
    "\n",
    "Y = pd.get_dummies(Y)\n",
    "Y = Y.assign(labels= lambda x: 0 + x['lampe-ohp_voll'] + x['lampe-single'] * 2 + x['laptop-single'] * 3 + x['ohp_halb-laptop']* 4 + x['ohp_halb-laptop-lampe'] * 5 + x['ohp_halb-single'] * 6 + x['ohp_voll-laptop'] * 7 + x['ohp_voll-laptop-bosch-lampe'] * 8 + x['ohp_voll-single'] *9)\n",
    "Y = Y['labels']"
   ]
  },
  {
   "cell_type": "code",
   "execution_count": 6,
   "metadata": {},
   "outputs": [],
   "source": [
    "X_train, X_test, Y_train, Y_test = train_test_split(X, Y, test_size = 0.2, shuffle=True)"
   ]
  },
  {
   "cell_type": "code",
   "execution_count": null,
   "metadata": {},
   "outputs": [],
   "source": []
  },
  {
   "cell_type": "code",
   "execution_count": 7,
   "metadata": {},
   "outputs": [],
   "source": [
    "#train_data = lgb.Dataset(X_train, label=Y_train)\n",
    "#test_data = lgb.Dataset(X_test, label=Y_test)\n",
    "\n",
    "#param = {'num_leaves':200, 'num_trees':100, 'objective':'multiclass', 'num_class': 10}\n",
    "#num_round = 100\n",
    "#param['metric'] = ['multi_logloss', 'multi_error']\n",
    "\n",
    "#bst = lgb.cv(param, train_data, num_round, nfold=5)\n",
    "#bst = lgb.train(param, train_data, num_round, valid_sets=[train_data, test_data], valid_names = ['train','eval'])"
   ]
  },
  {
   "cell_type": "code",
   "execution_count": 8,
   "metadata": {},
   "outputs": [
    {
     "name": "stdout",
     "output_type": "stream",
     "text": [
      "building tree 1 of 50building tree 2 of 50building tree 3 of 50\n",
      "building tree 4 of 50\n",
      "\n",
      "\n",
      "building tree 5 of 50\n",
      "building tree 6 of 50\n",
      "building tree 7 of 50\n",
      "building tree 8 of 50\n",
      "building tree 9 of 50\n",
      "building tree 10 of 50\n",
      "building tree 11 of 50\n",
      "building tree 12 of 50\n",
      "building tree 13 of 50\n",
      "building tree 14 of 50\n",
      "building tree 15 of 50\n",
      "building tree 16 of 50\n",
      "building tree 17 of 50\n",
      "building tree 18 of 50\n",
      "building tree 19 of 50\n",
      "building tree 20 of 50\n",
      "building tree 21 of 50\n",
      "building tree 22 of 50\n",
      "building tree 23 of 50\n",
      "building tree 24 of 50\n",
      "building tree 25 of 50\n",
      "building tree 26 of 50\n",
      "building tree 27 of 50\n",
      "building tree 28 of 50\n",
      "building tree 29 of 50\n",
      "building tree 30 of 50\n",
      "building tree 31 of 50\n",
      "building tree 32 of 50\n",
      "building tree 33 of 50\n",
      "building tree 34 of 50\n",
      "building tree 35 of 50\n",
      "building tree 36 of 50\n"
     ]
    },
    {
     "name": "stderr",
     "output_type": "stream",
     "text": [
      "[Parallel(n_jobs=-1)]: Done  33 tasks      | elapsed:  6.1min\n"
     ]
    },
    {
     "name": "stdout",
     "output_type": "stream",
     "text": [
      "building tree 37 of 50\n",
      "building tree 38 of 50\n",
      "building tree 39 of 50\n",
      "building tree 40 of 50\n",
      "building tree 41 of 50\n",
      "building tree 42 of 50\n",
      "building tree 43 of 50\n",
      "building tree 44 of 50\n",
      "building tree 45 of 50\n",
      "building tree 46 of 50\n",
      "building tree 47 of 50\n",
      "building tree 48 of 50\n",
      "building tree 49 of 50\n",
      "building tree 50 of 50\n",
      "Time taken: 517.7442049980164\n"
     ]
    },
    {
     "name": "stderr",
     "output_type": "stream",
     "text": [
      "[Parallel(n_jobs=-1)]: Done  50 out of  50 | elapsed:  8.6min finished\n"
     ]
    }
   ],
   "source": [
    "from sklearn.ensemble import RandomForestClassifier\n",
    "from time import time\n",
    "\n",
    "clf = RandomForestClassifier(n_estimators=50, random_state=42, min_samples_split=2, verbose=2, n_jobs=-1)\n",
    "startTime = time()\n",
    "\n",
    "clf.fit(X_train, Y_train)\n",
    "\n",
    "endTime = time()\n",
    "diff = (endTime - startTime)\n",
    "print(\"Time taken:\", diff)"
   ]
  },
  {
   "cell_type": "code",
   "execution_count": 9,
   "metadata": {
    "scrolled": true
   },
   "outputs": [
    {
     "name": "stderr",
     "output_type": "stream",
     "text": [
      "[Parallel(n_jobs=4)]: Done  33 tasks      | elapsed:   36.6s\n",
      "[Parallel(n_jobs=4)]: Done  50 out of  50 | elapsed:   55.1s finished\n"
     ]
    },
    {
     "name": "stdout",
     "output_type": "stream",
     "text": [
      "Train: 90.66\n"
     ]
    },
    {
     "name": "stderr",
     "output_type": "stream",
     "text": [
      "[Parallel(n_jobs=4)]: Done  33 tasks      | elapsed:    8.8s\n"
     ]
    },
    {
     "name": "stdout",
     "output_type": "stream",
     "text": [
      "Test: 90.38\n"
     ]
    },
    {
     "name": "stderr",
     "output_type": "stream",
     "text": [
      "[Parallel(n_jobs=4)]: Done  50 out of  50 | elapsed:   13.0s finished\n"
     ]
    }
   ],
   "source": [
    "print(\"Train:\", round(10000*clf.score(X_train, Y_train))/100.0)\n",
    "print(\"Test:\", round(10000*clf.score(X_test, Y_test))/100.0)"
   ]
  },
  {
   "cell_type": "markdown",
   "metadata": {},
   "source": [
    "# Get a Sample to predict the class"
   ]
  },
  {
   "cell_type": "code",
   "execution_count": 10,
   "metadata": {},
   "outputs": [
    {
     "name": "stdout",
     "output_type": "stream",
     "text": [
      "evaluating sample 925448 of 1251840\n",
      "[ 0.97181717  0.71547829  0.07610475]\n",
      "186    9\n",
      "Name: labels, dtype: uint8\n"
     ]
    },
    {
     "name": "stderr",
     "output_type": "stream",
     "text": [
      "[Parallel(n_jobs=4)]: Done  33 tasks      | elapsed:    0.0s\n",
      "[Parallel(n_jobs=4)]: Done  50 out of  50 | elapsed:    0.0s finished\n"
     ]
    },
    {
     "data": {
      "text/plain": [
       "array([9], dtype=uint8)"
      ]
     },
     "execution_count": 10,
     "metadata": {},
     "output_type": "execute_result"
    }
   ],
   "source": [
    "num_test_samples = len(X_test)\n",
    "sample = np.random.randint(len(X_test))\n",
    "\n",
    "print(\"evaluating sample\", sample, \"of\", num_test_samples)\n",
    "#print(Y_test.head(), type(Y_test))\n",
    "sample_X = X_test[sample]\n",
    "sample_Y = Y_test[sample:sample+1]\n",
    "\n",
    "print(sample_X)\n",
    "print(sample_Y)\n",
    "\n",
    "clf.predict(sample_X.reshape(1, -1))"
   ]
  },
  {
   "cell_type": "markdown",
   "metadata": {},
   "source": [
    "# Evaluate model with new data\n",
    "\n",
    "- Record data\n",
    "- export as csv\n",
    "- Read csv files\n",
    "- for each wave (represented by one file)\n",
    "    - predict device\n",
    "    - result is mode of the prediction (most often used classification prediction)\n",
    "    - print to screen which device is active"
   ]
  },
  {
   "cell_type": "code",
   "execution_count": null,
   "metadata": {},
   "outputs": [],
   "source": []
  }
 ],
 "metadata": {
  "kernelspec": {
   "display_name": "Python 3",
   "language": "python",
   "name": "python3"
  },
  "language_info": {
   "codemirror_mode": {
    "name": "ipython",
    "version": 3
   },
   "file_extension": ".py",
   "mimetype": "text/x-python",
   "name": "python",
   "nbconvert_exporter": "python",
   "pygments_lexer": "ipython3",
   "version": "3.6.4"
  }
 },
 "nbformat": 4,
 "nbformat_minor": 2
}
